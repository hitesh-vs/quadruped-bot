{
  "nbformat": 4,
  "nbformat_minor": 0,
  "metadata": {
    "colab": {
      "name": "Inv_kin.ipynb",
      "provenance": [],
      "authorship_tag": "ABX9TyN7MqKeCJ+/g4SqF0apZmeu",
      "include_colab_link": true
    },
    "kernelspec": {
      "name": "python3",
      "display_name": "Python 3"
    },
    "language_info": {
      "name": "python"
    }
  },
  "cells": [
    {
      "cell_type": "markdown",
      "metadata": {
        "id": "view-in-github",
        "colab_type": "text"
      },
      "source": [
        "<a href=\"https://colab.research.google.com/github/hitesh-vs/quadruped-bot/blob/main/Inv_kin.ipynb\" target=\"_parent\"><img src=\"https://colab.research.google.com/assets/colab-badge.svg\" alt=\"Open In Colab\"/></a>"
      ]
    },
    {
      "cell_type": "markdown",
      "source": [
        "Code for inverse kinematics of a 2R manipulator"
      ],
      "metadata": {
        "id": "EkDcKA7v7Fq1"
      }
    },
    {
      "cell_type": "code",
      "execution_count": null,
      "metadata": {
        "id": "erU2ADUf57G-"
      },
      "outputs": [],
      "source": [
        "import numpy as np\n",
        "import matplotlib.pyplot as plt\n",
        "import math"
      ]
    },
    {
      "cell_type": "code",
      "source": [
        "#lengths of the links\n",
        "a1 = 1\n",
        "a2 = 0.75"
      ],
      "metadata": {
        "id": "I3-Wnq3r6yZ_"
      },
      "execution_count": null,
      "outputs": []
    },
    {
      "cell_type": "code",
      "source": [
        "#Inputs for Inverse Kinematics\n",
        "# The trajectory defined here is along a st line path x = 1\n",
        "x = 1\n",
        "def y(t):\n",
        "  return 0.14*t"
      ],
      "metadata": {
        "id": "Gk7OeY7l7y_n"
      },
      "execution_count": null,
      "outputs": []
    },
    {
      "cell_type": "code",
      "source": [
        "q1_case1 =[]\n",
        "q2_case1 =[]\n",
        "q1_case2 =[]\n",
        "q2_case2 =[]\n",
        "\n",
        "dummy = []\n",
        "\n",
        "for t in range(10):\n",
        "\n",
        " c2 = (x*x + y(t)*y(t) - a1*a1 - a2*a2)/(2*a1*a2)\n",
        " if c2 <= 1:\n",
        "    s2_1 = np.sqrt(1-c2*c2)\n",
        "    s2_2 = -np.sqrt(1-c2*c2)\n",
        "    theta2_1 = np.arctan2(s2_1,c2)\n",
        "    theta2_2 = np.arctan2(s2_2,c2)\n",
        "   \n",
        "    denom_1 = a1*a1 + a2*a2 + 2*a1*a2*np.cos(theta2_1)\n",
        "    denom_2 = a1*a1 + a2*a2 + 2*a1*a2*np.cos(theta2_2)\n",
        "   \n",
        "    s1_1 = y(t)*(a1+a2*np.cos(theta2_1)) - x*a2*np.sin(theta2_1)\n",
        "    s1_2 = y(t)*(a1+a2*np.cos(theta2_2)) - x*a2*np.sin(theta2_2)\n",
        "    c1_1 = x*(a1+a2*np.cos(theta2_1)) - y(t)*a2*np.sin(theta2_1)\n",
        "    c1_2 = x*(a1+a2*np.cos(theta2_2)) - y(t)*a2*np.sin(theta2_2)\n",
        "    \n",
        "    theta1_1 = np.arctan2(s1_1, c1_1)\n",
        "    theta1_2 = np.arctan2(s1_2, c1_2) \n",
        "\n",
        "    q1_case1.append(theta1_1)\n",
        "    q2_case1.append(theta2_1)\n",
        "    q1_case2.append(theta1_2)\n",
        "    q2_case2.append(theta2_2)\n",
        "\n",
        "    dummy.append(y(t))\n",
        "\n"
      ],
      "metadata": {
        "id": "3DuRZyR6LvJB"
      },
      "execution_count": null,
      "outputs": []
    },
    {
      "cell_type": "code",
      "source": [
        "print(dummy)"
      ],
      "metadata": {
        "colab": {
          "base_uri": "https://localhost:8080/"
        },
        "id": "lOf06OMPPIjV",
        "outputId": "b44bf22a-bb7d-4f68-a4d4-38cbb3ba7d97"
      },
      "execution_count": null,
      "outputs": [
        {
          "output_type": "stream",
          "name": "stdout",
          "text": [
            "[0.0, 0.14, 0.28, 0.42000000000000004, 0.56, 0.7000000000000001, 0.8400000000000001, 0.9800000000000001, 1.12, 1.2600000000000002]\n"
          ]
        }
      ]
    },
    {
      "cell_type": "code",
      "source": [
        "x_axis = [t for t in range(len(dummy))]"
      ],
      "metadata": {
        "id": "ytt_XVspRLHA"
      },
      "execution_count": null,
      "outputs": []
    },
    {
      "cell_type": "code",
      "source": [
        "plt.plot(x_axis,q1_case1)\n",
        "plt.plot(x_axis,q2_case1)\n",
        "plt.show()"
      ],
      "metadata": {
        "colab": {
          "base_uri": "https://localhost:8080/",
          "height": 265
        },
        "id": "TRHPUBOIZAoU",
        "outputId": "c9695bfb-7dae-4cd2-d9ba-43653372f496"
      },
      "execution_count": null,
      "outputs": [
        {
          "output_type": "display_data",
          "data": {
            "text/plain": [
              "<Figure size 432x288 with 1 Axes>"
            ],
            "image/png": "[encoded data removed]"
          },
          "metadata": {
            "needs_background": "light"
          }
        }
      ]
    },
    {
      "cell_type": "code",
      "source": [
        "plt.plot(x_axis,q1_case2)\n",
        "plt.plot(x_axis,q2_case2)\n",
        "plt.show()"
      ],
      "metadata": {
        "colab": {
          "base_uri": "https://localhost:8080/",
          "height": 265
        },
        "id": "Ui9hYwRyZPVe",
        "outputId": "47297aae-c69b-4181-b4d6-0cc58473df17"
      },
      "execution_count": null,
      "outputs": [
        {
          "output_type": "display_data",
          "data": {
            "text/plain": [
              "<Figure size 432x288 with 1 Axes>"
            ],
            "image/png": "[encoded data removed]"
          },
          "metadata": {
            "needs_background": "light"
          }
        }
      ]
    },
    {
      "cell_type": "code",
      "source": [
        ""
      ],
      "metadata": {
        "id": "swVEBr-UZaSL"
      },
      "execution_count": null,
      "outputs": []
    }
  ]
}